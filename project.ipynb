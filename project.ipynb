{
 "cells": [
  {
   "cell_type": "markdown",
   "metadata": {
    "toc": true
   },
   "source": [
    "<h1>Содержание<span class=\"tocSkip\"></span></h1>\n",
    "<div class=\"toc\"><ul class=\"toc-item\"><li><span><a href=\"#Подготовка-данных\" data-toc-modified-id=\"Подготовка-данных-1\"><span class=\"toc-item-num\">1&nbsp;&nbsp;</span>Подготовка данных</a></span></li><li><span><a href=\"#Исследование-задачи\" data-toc-modified-id=\"Исследование-задачи-2\"><span class=\"toc-item-num\">2&nbsp;&nbsp;</span>Исследование задачи</a></span><ul class=\"toc-item\"><li><span><a href=\"#Дерево-решений\" data-toc-modified-id=\"Дерево-решений-2.1\"><span class=\"toc-item-num\">2.1&nbsp;&nbsp;</span>Дерево решений</a></span></li><li><span><a href=\"#Случайный-лес\" data-toc-modified-id=\"Случайный-лес-2.2\"><span class=\"toc-item-num\">2.2&nbsp;&nbsp;</span>Случайный лес</a></span></li><li><span><a href=\"#Логистическая-регрессия\" data-toc-modified-id=\"Логистическая-регрессия-2.3\"><span class=\"toc-item-num\">2.3&nbsp;&nbsp;</span>Логистическая регрессия</a></span></li><li><span><a href=\"#Вывод\" data-toc-modified-id=\"Вывод-2.4\"><span class=\"toc-item-num\">2.4&nbsp;&nbsp;</span>Вывод</a></span></li></ul></li><li><span><a href=\"#Борьба-с-дисбалансом\" data-toc-modified-id=\"Борьба-с-дисбалансом-3\"><span class=\"toc-item-num\">3&nbsp;&nbsp;</span>Борьба с дисбалансом</a></span><ul class=\"toc-item\"><li><span><a href=\"#Upsampling\" data-toc-modified-id=\"Upsampling-3.1\"><span class=\"toc-item-num\">3.1&nbsp;&nbsp;</span>Upsampling</a></span><ul class=\"toc-item\"><li><span><a href=\"#Случайный-лес\" data-toc-modified-id=\"Случайный-лес-3.1.1\"><span class=\"toc-item-num\">3.1.1&nbsp;&nbsp;</span>Случайный лес</a></span></li><li><span><a href=\"#Дерево-решений\" data-toc-modified-id=\"Дерево-решений-3.1.2\"><span class=\"toc-item-num\">3.1.2&nbsp;&nbsp;</span>Дерево решений</a></span></li><li><span><a href=\"#Логистическая-регрессия\" data-toc-modified-id=\"Логистическая-регрессия-3.1.3\"><span class=\"toc-item-num\">3.1.3&nbsp;&nbsp;</span>Логистическая регрессия</a></span></li></ul></li><li><span><a href=\"#Downsampling\" data-toc-modified-id=\"Downsampling-3.2\"><span class=\"toc-item-num\">3.2&nbsp;&nbsp;</span>Downsampling</a></span><ul class=\"toc-item\"><li><span><a href=\"#Случайный-лес\" data-toc-modified-id=\"Случайный-лес-3.2.1\"><span class=\"toc-item-num\">3.2.1&nbsp;&nbsp;</span>Случайный лес</a></span></li><li><span><a href=\"#Дерево-решений\" data-toc-modified-id=\"Дерево-решений-3.2.2\"><span class=\"toc-item-num\">3.2.2&nbsp;&nbsp;</span>Дерево решений</a></span></li><li><span><a href=\"#Логистическая-регрессия\" data-toc-modified-id=\"Логистическая-регрессия-3.2.3\"><span class=\"toc-item-num\">3.2.3&nbsp;&nbsp;</span>Логистическая регрессия</a></span></li></ul></li><li><span><a href=\"#Вывод\" data-toc-modified-id=\"Вывод-3.3\"><span class=\"toc-item-num\">3.3&nbsp;&nbsp;</span>Вывод</a></span></li></ul></li><li><span><a href=\"#Тестирование-модели\" data-toc-modified-id=\"Тестирование-модели-4\"><span class=\"toc-item-num\">4&nbsp;&nbsp;</span>Тестирование модели</a></span><ul class=\"toc-item\"><li><span><a href=\"#Модель-случайного-леса,-downsampling\" data-toc-modified-id=\"Модель-случайного-леса,-downsampling-4.1\"><span class=\"toc-item-num\">4.1&nbsp;&nbsp;</span>Модель случайного леса, downsampling</a></span></li><li><span><a href=\"#Модель-случайного-леса,-upsampling\" data-toc-modified-id=\"Модель-случайного-леса,-upsampling-4.2\"><span class=\"toc-item-num\">4.2&nbsp;&nbsp;</span>Модель случайного леса, upsampling</a></span></li><li><span><a href=\"#DummyClassifier\" data-toc-modified-id=\"DummyClassifier-4.3\"><span class=\"toc-item-num\">4.3&nbsp;&nbsp;</span>DummyClassifier</a></span></li><li><span><a href=\"#Вывод\" data-toc-modified-id=\"Вывод-4.4\"><span class=\"toc-item-num\">4.4&nbsp;&nbsp;</span>Вывод</a></span></li></ul></li><li><span><a href=\"#Чек-лист-готовности-проекта\" data-toc-modified-id=\"Чек-лист-готовности-проекта-5\"><span class=\"toc-item-num\">5&nbsp;&nbsp;</span>Чек-лист готовности проекта</a></span></li></ul></div>"
   ]
  },
  {
   "cell_type": "markdown",
   "metadata": {},
   "source": [
    "# Отток клиентов"
   ]
  },
  {
   "cell_type": "markdown",
   "metadata": {},
   "source": [
    "Из «Бета-Банка» стали уходить клиенты. Каждый месяц. Немного, но заметно. Банковские маркетологи посчитали: сохранять текущих клиентов дешевле, чем привлекать новых.\n",
    "\n",
    "Нужно спрогнозировать, уйдёт клиент из банка в ближайшее время или нет. Вам предоставлены исторические данные о поведении клиентов и расторжении договоров с банком. \n",
    "\n",
    "Постройте модель с предельно большим значением *F1*-меры. Чтобы сдать проект успешно, нужно довести метрику до 0.59. Проверьте *F1*-меру на тестовой выборке самостоятельно.\n",
    "\n",
    "Дополнительно измеряйте *AUC-ROC*, сравнивайте её значение с *F1*-мерой.\n",
    "\n",
    "Источник данных: [https://www.kaggle.com/barelydedicated/bank-customer-churn-modeling](https://www.kaggle.com/barelydedicated/bank-customer-churn-modeling)"
   ]
  },
  {
   "cell_type": "code",
   "execution_count": 64,
   "metadata": {},
   "outputs": [],
   "source": [
    "import pandas as pd\n",
    "from sklearn.model_selection import train_test_split\n",
    "from sklearn.metrics import accuracy_score, f1_score, recall_score, precision_score\n",
    "from sklearn.preprocessing import OrdinalEncoder\n",
    "from sklearn.preprocessing import StandardScaler\n",
    "from sklearn.ensemble import RandomForestClassifier\n",
    "from sklearn.tree import DecisionTreeClassifier\n",
    "from sklearn.linear_model import LogisticRegression\n",
    "from sklearn.utils import shuffle\n",
    "from sklearn.metrics import roc_auc_score\n",
    "from sklearn.metrics import roc_curve\n",
    "import matplotlib.pyplot as plt\n",
    "from sklearn.dummy import DummyClassifier\n",
    "from imblearn.over_sampling import SMOTE\n",
    "from imblearn.under_sampling import RandomUnderSampler\n",
    "\n",
    "pd.options.mode.chained_assignment = None\n",
    "import warnings\n",
    "warnings.filterwarnings(\"ignore\")"
   ]
  },
  {
   "cell_type": "markdown",
   "metadata": {},
   "source": [
    "## Подготовка данных"
   ]
  },
  {
   "cell_type": "code",
   "execution_count": 2,
   "metadata": {},
   "outputs": [],
   "source": [
    "data = pd.read_csv('/datasets/Churn.csv')"
   ]
  },
  {
   "cell_type": "code",
   "execution_count": 3,
   "metadata": {},
   "outputs": [
    {
     "name": "stdout",
     "output_type": "stream",
     "text": [
      "<class 'pandas.core.frame.DataFrame'>\n",
      "RangeIndex: 10000 entries, 0 to 9999\n",
      "Data columns (total 14 columns):\n",
      " #   Column           Non-Null Count  Dtype  \n",
      "---  ------           --------------  -----  \n",
      " 0   RowNumber        10000 non-null  int64  \n",
      " 1   CustomerId       10000 non-null  int64  \n",
      " 2   Surname          10000 non-null  object \n",
      " 3   CreditScore      10000 non-null  int64  \n",
      " 4   Geography        10000 non-null  object \n",
      " 5   Gender           10000 non-null  object \n",
      " 6   Age              10000 non-null  int64  \n",
      " 7   Tenure           9091 non-null   float64\n",
      " 8   Balance          10000 non-null  float64\n",
      " 9   NumOfProducts    10000 non-null  int64  \n",
      " 10  HasCrCard        10000 non-null  int64  \n",
      " 11  IsActiveMember   10000 non-null  int64  \n",
      " 12  EstimatedSalary  10000 non-null  float64\n",
      " 13  Exited           10000 non-null  int64  \n",
      "dtypes: float64(3), int64(8), object(3)\n",
      "memory usage: 1.1+ MB\n"
     ]
    }
   ],
   "source": [
    "data.info()"
   ]
  },
  {
   "cell_type": "markdown",
   "metadata": {},
   "source": [
    "Индивидуальная информация о каждом пользователе (уникальный номер и фамилия) нам не понадобится, удалим эти столбцы."
   ]
  },
  {
   "cell_type": "code",
   "execution_count": 4,
   "metadata": {},
   "outputs": [],
   "source": [
    "data.drop([\"RowNumber\", \"CustomerId\", \"Surname\"], axis=1, inplace=True)"
   ]
  },
  {
   "cell_type": "markdown",
   "metadata": {},
   "source": [
    "Проверим данные на наличие пропусков."
   ]
  },
  {
   "cell_type": "code",
   "execution_count": 5,
   "metadata": {},
   "outputs": [
    {
     "data": {
      "text/plain": [
       "CreditScore          0\n",
       "Geography            0\n",
       "Gender               0\n",
       "Age                  0\n",
       "Tenure             909\n",
       "Balance              0\n",
       "NumOfProducts        0\n",
       "HasCrCard            0\n",
       "IsActiveMember       0\n",
       "EstimatedSalary      0\n",
       "Exited               0\n",
       "dtype: int64"
      ]
     },
     "execution_count": 5,
     "metadata": {},
     "output_type": "execute_result"
    }
   ],
   "source": [
    "data.isna().sum()"
   ]
  },
  {
   "cell_type": "markdown",
   "metadata": {},
   "source": [
    "Tenure - столбец с информацией о том, сколько времени клиент является клиентом данного банка. Возможно, значения пропущены для новых клиентов, заполним пропуски нулями."
   ]
  },
  {
   "cell_type": "code",
   "execution_count": 6,
   "metadata": {},
   "outputs": [],
   "source": [
    "data['Tenure'] = data['Tenure'].fillna(data['Tenure'].median())"
   ]
  },
  {
   "cell_type": "code",
   "execution_count": 7,
   "metadata": {},
   "outputs": [
    {
     "data": {
      "text/plain": [
       "0"
      ]
     },
     "execution_count": 7,
     "metadata": {},
     "output_type": "execute_result"
    }
   ],
   "source": [
    "data['Tenure'].isna().sum()"
   ]
  },
  {
   "cell_type": "code",
   "execution_count": 8,
   "metadata": {},
   "outputs": [],
   "source": [
    "data_ohe = pd.get_dummies(data, drop_first=True)"
   ]
  },
  {
   "cell_type": "code",
   "execution_count": 9,
   "metadata": {},
   "outputs": [],
   "source": [
    "target = data_ohe['Exited']\n",
    "features = data_ohe.drop(['Exited'] , axis=1)\n",
    "x, features_test, y, target_test = train_test_split(features, target, test_size=0.2, train_size=0.8)\n",
    "features_train, features_valid, target_train, target_valid = train_test_split(x, y, test_size = 0.25, train_size =0.75)"
   ]
  },
  {
   "cell_type": "code",
   "execution_count": 10,
   "metadata": {},
   "outputs": [],
   "source": [
    "numeric = ['CreditScore', 'Age', 'Tenure', 'Balance', 'NumOfProducts', 'EstimatedSalary']\n",
    "\n",
    "scaler = StandardScaler()\n",
    "scaler.fit(features_train[numeric])\n",
    "features_train[numeric] = scaler.transform(features_train[numeric])\n",
    "features_valid[numeric] = scaler.transform(features_valid[numeric])\n",
    "features_test[numeric] = scaler.transform(features_test[numeric])"
   ]
  },
  {
   "cell_type": "markdown",
   "metadata": {},
   "source": [
    "## Исследование задачи"
   ]
  },
  {
   "cell_type": "markdown",
   "metadata": {},
   "source": [
    "Проверим, сколько объектов положительного и отрицательного классов в выборке."
   ]
  },
  {
   "cell_type": "code",
   "execution_count": 11,
   "metadata": {},
   "outputs": [
    {
     "name": "stdout",
     "output_type": "stream",
     "text": [
      "Положительный класс: 0.20369999999999389\n",
      "Отрицательный класс: 0.7963000000000061\n"
     ]
    }
   ],
   "source": [
    "print('Положительный класс:', sum(data[\"Exited\"]/len(data)))\n",
    "\n",
    "print('Отрицательный класс:', 1 - sum(data[\"Exited\"]/len(data)))"
   ]
  },
  {
   "cell_type": "markdown",
   "metadata": {},
   "source": [
    "Присутствует дисбаланс классов, заметен существенный перевес в сторону отрицательного класса.\n",
    "Попробуем обучить несколько моделей с разными гиперпараметрами, пока не учитывая дисбаланс."
   ]
  },
  {
   "cell_type": "markdown",
   "metadata": {},
   "source": [
    "### Дерево решений"
   ]
  },
  {
   "cell_type": "code",
   "execution_count": 12,
   "metadata": {},
   "outputs": [
    {
     "name": "stdout",
     "output_type": "stream",
     "text": [
      "DecisionTree:\n",
      "F1: 0.5754985754985755\n",
      "Max accuracy: 0.851\n",
      "max_depth: 8 min_samples_leaf: 29\n"
     ]
    }
   ],
   "source": [
    "dec_tr_depth_best = 0\n",
    "dec_tr_leaf_best = 0\n",
    "dec_tr_res_best = 0\n",
    "dec_tr_mod_best = None\n",
    "f1_dec_tr_best = 0\n",
    "\n",
    "for depth in range(1, 50):\n",
    "    for leaf in range(1, 100):\n",
    "        dec_tr_model = DecisionTreeClassifier(max_depth = depth, min_samples_leaf = leaf, random_state=12345) \n",
    "        dec_tr_model.fit(features_train, target_train) \n",
    "        dec_tr_preds = dec_tr_model.predict(features_valid) \n",
    "        dec_tr_res = accuracy_score(target_valid, dec_tr_preds)\n",
    "        f1_dec_tr = f1_score(target_valid, dec_tr_preds)\n",
    "        if f1_dec_tr > f1_dec_tr_best:\n",
    "            dec_tr_mod_best = dec_tr_model\n",
    "            dec_tr_depth_best = depth\n",
    "            dec_tr_leaf_best = leaf\n",
    "            dec_tr_res_best = dec_tr_res\n",
    "            f1_dec_tr_best = f1_dec_tr\n",
    "\n",
    "print('DecisionTree:')\n",
    "print('F1:', f1_dec_tr_best)\n",
    "print(\"Max accuracy:\", dec_tr_res_best) \n",
    "print(\"max_depth:\", dec_tr_depth_best, \"min_samples_leaf:\", dec_tr_leaf_best)"
   ]
  },
  {
   "cell_type": "markdown",
   "metadata": {},
   "source": [
    "### Случайный лес"
   ]
  },
  {
   "cell_type": "code",
   "execution_count": 13,
   "metadata": {},
   "outputs": [
    {
     "name": "stdout",
     "output_type": "stream",
     "text": [
      "RandomForest:\n",
      "F1: 0.5591397849462366\n",
      "Max accuracy: 0.8565\n",
      "n_estimators: 60 max_depth: 15\n"
     ]
    }
   ],
   "source": [
    "r_forest_depth_best = 0\n",
    "r_forest_est_best = 0\n",
    "r_forest_res_best = 0\n",
    "r_forest_mod_best = None\n",
    "f1_r_forest_best = 0\n",
    "\n",
    "for est in range(10, 200, 10):\n",
    "    for depth in range(1, 25):\n",
    "        model_r_forest = RandomForestClassifier(random_state=12345, n_estimators=est, max_depth = depth) \n",
    "        model_r_forest.fit(features_train, target_train) \n",
    "        r_forest_preds = model_r_forest.predict(features_valid) \n",
    "        r_forest_res = model_r_forest.score(features_valid, target_valid)\n",
    "        f1_r_forest = f1_score(target_valid, r_forest_preds)\n",
    "        if f1_r_forest > f1_r_forest_best:\n",
    "            r_forest_mod_best = model_r_forest\n",
    "            r_forest_res_best = r_forest_res\n",
    "            r_forest_est_best = est\n",
    "            r_forest_depth_best = depth\n",
    "            f1_r_forest_best = f1_r_forest\n",
    "\n",
    "print('RandomForest:')\n",
    "print('F1:', f1_r_forest_best)\n",
    "print('Max accuracy:', r_forest_res_best) \n",
    "print('n_estimators:', r_forest_est_best, 'max_depth:', r_forest_depth_best)"
   ]
  },
  {
   "cell_type": "markdown",
   "metadata": {},
   "source": [
    "### Логистическая регрессия"
   ]
  },
  {
   "cell_type": "code",
   "execution_count": 16,
   "metadata": {
    "scrolled": true
   },
   "outputs": [
    {
     "name": "stdout",
     "output_type": "stream",
     "text": [
      "LogisticRegression:\n",
      "F1: 0.2972477064220183\n",
      "Max accuracy: 0.8085\n"
     ]
    }
   ],
   "source": [
    "log_reg_model = LogisticRegression(random_state=12345, solver='lbfgs') \n",
    "log_reg_model.fit(features_train, target_train) \n",
    "log_reg_preds = log_reg_model.predict(features_valid) \n",
    "log_reg_res = log_reg_model.score(features_valid, target_valid)\n",
    "log_reg_f1 = f1_score(target_valid, log_reg_preds)\n",
    "\n",
    "print('LogisticRegression:')\n",
    "print('F1:', log_reg_f1)\n",
    "print('Max accuracy:', log_reg_res) "
   ]
  },
  {
   "cell_type": "markdown",
   "metadata": {},
   "source": [
    "### Вывод"
   ]
  },
  {
   "cell_type": "markdown",
   "metadata": {},
   "source": [
    "Лучшие результаты продемонстрировала модель случайного леса (максимальное значение метрики f1, значение точности немного меньше, чем у модели дерева решений, но эта разница не существенна). Далее будем использовать только эту модель."
   ]
  },
  {
   "cell_type": "markdown",
   "metadata": {},
   "source": [
    "## Борьба с дисбалансом"
   ]
  },
  {
   "cell_type": "markdown",
   "metadata": {},
   "source": [
    "Исправим дисбаланс классов с помощью технологий Upsampling и Downsampling, дублируя объекты наименьшего класса или сокращая объекты преобладающего класса."
   ]
  },
  {
   "cell_type": "markdown",
   "metadata": {},
   "source": [
    "Создадим функции upsampling и downsampling, которые получат на вход исходные данные и число необходимых повторов, а вернут семплированные, перемешанные данные для обучения."
   ]
  },
  {
   "cell_type": "markdown",
   "metadata": {},
   "source": [
    "### Upsampling"
   ]
  },
  {
   "cell_type": "code",
   "execution_count": 17,
   "metadata": {},
   "outputs": [],
   "source": [
    "# def upsampling(features, target, rep):\n",
    "    \n",
    "#     features_zeros = features[target == 0]\n",
    "#     features_ones = features[target == 1]\n",
    "#     target_zeros = target[target == 0]\n",
    "#     target_ones = target[target == 1]\n",
    "\n",
    "#     features_upsampled = pd.concat([features_zeros] + [features_ones] * rep)\n",
    "#     target_upsampled = pd.concat([target_zeros] + [target_ones] * rep)\n",
    "    \n",
    "#     features_upsampled, target_upsampled = shuffle(features_upsampled, target_upsampled, random_state=12345)\n",
    "    \n",
    "#     return features_upsampled, target_upsampled\n",
    "\n",
    "oversample = SMOTE(random_state=12345)\n",
    "features_upsampled, target_upsampled = oversample.fit_resample(features_train, target_train)"
   ]
  },
  {
   "cell_type": "markdown",
   "metadata": {},
   "source": [
    "#### Случайный лес"
   ]
  },
  {
   "cell_type": "code",
   "execution_count": 18,
   "metadata": {},
   "outputs": [
    {
     "name": "stdout",
     "output_type": "stream",
     "text": [
      "RandomForest:\n",
      "F1: 0.6083052749719416\n",
      "Max accuracy: 0.8255\n",
      "n_estimators: 70 max_depth: 11\n"
     ]
    }
   ],
   "source": [
    "r_forest_depth_best = 0\n",
    "r_forest_est_best = 0\n",
    "r_forest_res_best = 0\n",
    "r_forest_mod_best_UP = None\n",
    "f1_r_forest_best = 0\n",
    "\n",
    "for est in range(10, 200, 10):\n",
    "    for depth in range(1, 25):\n",
    "        model_r_forest = RandomForestClassifier(random_state=12345, n_estimators=est, max_depth = depth) \n",
    "        model_r_forest.fit(features_upsampled, target_upsampled) \n",
    "        r_forest_preds = model_r_forest.predict(features_valid) \n",
    "        r_forest_res = model_r_forest.score(features_valid, target_valid)\n",
    "        f1_r_forest = f1_score(target_valid, r_forest_preds)\n",
    "        if f1_r_forest > f1_r_forest_best:\n",
    "            r_forest_mod_best_UP = model_r_forest\n",
    "            r_forest_res_best = r_forest_res\n",
    "            r_forest_est_best = est\n",
    "            r_forest_depth_best = depth\n",
    "            f1_r_forest_best = f1_r_forest\n",
    "\n",
    "print('RandomForest:')\n",
    "print('F1:', f1_r_forest_best)\n",
    "print('Max accuracy:', r_forest_res_best) \n",
    "print('n_estimators:', r_forest_est_best, 'max_depth:', r_forest_depth_best)"
   ]
  },
  {
   "cell_type": "markdown",
   "metadata": {},
   "source": [
    "#### Дерево решений"
   ]
  },
  {
   "cell_type": "code",
   "execution_count": 19,
   "metadata": {},
   "outputs": [
    {
     "name": "stdout",
     "output_type": "stream",
     "text": [
      "DecisionTree:\n",
      "F1: 0.5708542713567839\n",
      "Max accuracy: 0.7865\n",
      "max_depth: 5 min_samples_leaf: 10\n"
     ]
    }
   ],
   "source": [
    "dec_tr_depth_best = 0\n",
    "dec_tr_leaf_best = 0\n",
    "dec_tr_res_best = 0\n",
    "dec_tr_mod_best_UP = None\n",
    "f1_dec_tr_best = 0\n",
    "\n",
    "for depth in range(1, 50):\n",
    "    for leaf in range(1, 100):\n",
    "        dec_tr_model = DecisionTreeClassifier(max_depth = depth, min_samples_leaf = leaf, random_state=12345) \n",
    "        dec_tr_model.fit(features_upsampled, target_upsampled) \n",
    "        dec_tr_preds = dec_tr_model.predict(features_valid) \n",
    "        dec_tr_res = accuracy_score(target_valid, dec_tr_preds)\n",
    "        f1_dec_tr = f1_score(target_valid, dec_tr_preds)\n",
    "        if f1_dec_tr > f1_dec_tr_best:\n",
    "            dec_tr_mod_best_UP = dec_tr_model\n",
    "            dec_tr_depth_best = depth\n",
    "            dec_tr_leaf_best = leaf\n",
    "            dec_tr_res_best = dec_tr_res\n",
    "            f1_dec_tr_best = f1_dec_tr\n",
    "\n",
    "print('DecisionTree:')\n",
    "print('F1:', f1_dec_tr_best)\n",
    "print(\"Max accuracy:\", dec_tr_res_best) \n",
    "print(\"max_depth:\", dec_tr_depth_best, \"min_samples_leaf:\", dec_tr_leaf_best)"
   ]
  },
  {
   "cell_type": "markdown",
   "metadata": {},
   "source": [
    "#### Логистическая регрессия"
   ]
  },
  {
   "cell_type": "code",
   "execution_count": 34,
   "metadata": {},
   "outputs": [
    {
     "name": "stdout",
     "output_type": "stream",
     "text": [
      "LogisticRegression:\n",
      "F1: 0.46648793565683644\n",
      "Max accuracy: 0.7015\n"
     ]
    }
   ],
   "source": [
    "log_reg_model_UP = LogisticRegression(random_state=12345, solver='lbfgs') \n",
    "log_reg_model_UP.fit(features_upsampled, target_upsampled) \n",
    "log_reg_preds = log_reg_model_UP.predict(features_valid) \n",
    "log_reg_res = log_reg_model_UP.score(features_valid, target_valid)\n",
    "log_reg_f1 = f1_score(target_valid, log_reg_preds)\n",
    "\n",
    "print('LogisticRegression:')\n",
    "print('F1:', log_reg_f1)\n",
    "print('Max accuracy:', log_reg_res)"
   ]
  },
  {
   "cell_type": "markdown",
   "metadata": {},
   "source": [
    "### Downsampling"
   ]
  },
  {
   "cell_type": "code",
   "execution_count": 22,
   "metadata": {},
   "outputs": [],
   "source": [
    "# def downsampling(features, target, fraction):\n",
    "    \n",
    "#     features_zeros = features[target == 0]\n",
    "#     features_ones = features[target == 1]\n",
    "#     target_zeros = target[target == 0]\n",
    "#     target_ones = target[target == 1]\n",
    "\n",
    "#     features_downsampled = pd.concat([features_zeros.sample(frac=fraction, random_state=12345)] + [features_ones])\n",
    "#     target_downsampled = pd.concat([target_zeros.sample(frac=fraction, random_state=12345)] + [target_ones])\n",
    "    \n",
    "#     features_downsampled, target_downsampled = shuffle(features_downsampled, target_downsampled, random_state=12345)\n",
    "    \n",
    "#     return features_downsampled, target_downsampled\n",
    "\n",
    "downsample = RandomUnderSampler(random_state=42)\n",
    "features_downsampled, target_downsampled = downsample.fit_resample(features_train, target_train)"
   ]
  },
  {
   "cell_type": "code",
   "execution_count": 25,
   "metadata": {},
   "outputs": [
    {
     "name": "stdout",
     "output_type": "stream",
     "text": [
      "Положительный класс: 0.49999999999999334\n",
      "Отрицательный класс: 0.5000000000000067\n"
     ]
    }
   ],
   "source": [
    "print('Положительный класс:', sum(target_downsampled/len(target_downsampled)))\n",
    "\n",
    "print('Отрицательный класс:', 1 - sum(target_downsampled/len(target_downsampled)))"
   ]
  },
  {
   "cell_type": "markdown",
   "metadata": {},
   "source": [
    "#### Случайный лес"
   ]
  },
  {
   "cell_type": "code",
   "execution_count": 26,
   "metadata": {},
   "outputs": [
    {
     "name": "stdout",
     "output_type": "stream",
     "text": [
      "RandomForest:\n",
      "F1: 0.6258373205741627\n",
      "Max accuracy: 0.8045\n",
      "n_estimators: 80 max_depth: 9\n"
     ]
    }
   ],
   "source": [
    "r_forest_depth_best = 0\n",
    "r_forest_est_best = 0\n",
    "r_forest_res_best = 0\n",
    "r_forest_mod_best_DW = None\n",
    "f1_r_forest_best = 0\n",
    "\n",
    "for est in range(10, 151, 10):\n",
    "    for depth in range(1, 16):\n",
    "        model_r_forest = RandomForestClassifier(random_state=12345, n_estimators=est, max_depth = depth) \n",
    "        model_r_forest.fit(features_downsampled, target_downsampled) \n",
    "        r_forest_preds = model_r_forest.predict(features_valid) \n",
    "        r_forest_res = model_r_forest.score(features_valid, target_valid)\n",
    "        f1_r_forest = f1_score(target_valid, r_forest_preds)\n",
    "        if f1_r_forest > f1_r_forest_best:\n",
    "            r_forest_mod_best_DW = model_r_forest\n",
    "            r_forest_res_best = r_forest_res\n",
    "            r_forest_est_best = est\n",
    "            r_forest_depth_best = depth\n",
    "            f1_r_forest_best = f1_r_forest\n",
    "\n",
    "print('RandomForest:')\n",
    "print('F1:', f1_r_forest_best)\n",
    "print('Max accuracy:', r_forest_res_best) \n",
    "print('n_estimators:', r_forest_est_best, 'max_depth:', r_forest_depth_best)"
   ]
  },
  {
   "cell_type": "markdown",
   "metadata": {},
   "source": [
    "#### Дерево решений"
   ]
  },
  {
   "cell_type": "code",
   "execution_count": 32,
   "metadata": {},
   "outputs": [
    {
     "name": "stdout",
     "output_type": "stream",
     "text": [
      "DecisionTree:\n",
      "F1: 0.5893635571054926\n",
      "Max accuracy: 0.7645\n",
      "max_depth: 5 min_samples_leaf: 10\n"
     ]
    }
   ],
   "source": [
    "dec_tr_depth_best = 0\n",
    "dec_tr_leaf_best = 0\n",
    "dec_tr_res_best = 0\n",
    "dec_tr_mod_best_DW = None\n",
    "f1_dec_tr_best = 0\n",
    "\n",
    "for depth in range(1, 50):\n",
    "    for leaf in range(1, 100):\n",
    "        dec_tr_model = DecisionTreeClassifier(max_depth = depth, min_samples_leaf = leaf, random_state=12345) \n",
    "        dec_tr_model.fit(features_downsampled, target_downsampled) \n",
    "        dec_tr_preds = dec_tr_model.predict(features_valid) \n",
    "        dec_tr_res = accuracy_score(target_valid, dec_tr_preds)\n",
    "        f1_dec_tr = f1_score(target_valid, dec_tr_preds)\n",
    "        if f1_dec_tr > f1_dec_tr_best:\n",
    "            dec_tr_mod_best_DW = dec_tr_model\n",
    "            dec_tr_depth_best = depth\n",
    "            dec_tr_leaf_best = leaf\n",
    "            dec_tr_res_best = dec_tr_res\n",
    "            f1_dec_tr_best = f1_dec_tr\n",
    "\n",
    "print('DecisionTree:')\n",
    "print('F1:', f1_dec_tr_best)\n",
    "print(\"Max accuracy:\", dec_tr_res_best) \n",
    "print(\"max_depth:\", dec_tr_depth_best, \"min_samples_leaf:\", dec_tr_leaf_best)"
   ]
  },
  {
   "cell_type": "markdown",
   "metadata": {},
   "source": [
    "#### Логистическая регрессия"
   ]
  },
  {
   "cell_type": "code",
   "execution_count": 33,
   "metadata": {},
   "outputs": [
    {
     "name": "stdout",
     "output_type": "stream",
     "text": [
      "LogisticRegression:\n",
      "F1: 0.48873483535528595\n",
      "Max accuracy: 0.705\n"
     ]
    }
   ],
   "source": [
    "log_reg_model_DW = LogisticRegression(random_state=12345, solver='lbfgs') \n",
    "log_reg_model_DW.fit(features_downsampled, target_downsampled) \n",
    "log_reg_preds = log_reg_model_DW.predict(features_valid) \n",
    "log_reg_res = log_reg_model_DW.score(features_valid, target_valid)\n",
    "log_reg_f1 = f1_score(target_valid, log_reg_preds)\n",
    "\n",
    "print('LogisticRegression:')\n",
    "print('F1:', log_reg_f1)\n",
    "print('Max accuracy:', log_reg_res)"
   ]
  },
  {
   "cell_type": "markdown",
   "metadata": {},
   "source": [
    "Визуализация метрики AUC ROC для модели случайного леса, обученной на upsampled выборке"
   ]
  },
  {
   "cell_type": "code",
   "execution_count": 29,
   "metadata": {},
   "outputs": [
    {
     "data": {
      "image/png": "[encoded data removed]",
      "text/plain": [
       "<Figure size 432x288 with 1 Axes>"
      ]
     },
     "metadata": {
      "needs_background": "light"
     },
     "output_type": "display_data"
    },
    {
     "name": "stdout",
     "output_type": "stream",
     "text": [
      "0.8551140532146438\n"
     ]
    }
   ],
   "source": [
    "probabilities_val = r_forest_mod_best.predict_proba(features_valid)\n",
    "probabilities_one_val = probabilities_val[:, 1]\n",
    "fpr, tpr, thresholds = roc_curve(target_valid, probabilities_one_val)\n",
    "plt.figure()\n",
    "plt.plot(fpr, tpr)\n",
    "plt.xlim([0.0, 1.0])\n",
    "plt.ylim([0.0, 1.0])\n",
    "plt.xlabel('False Positive Rate')\n",
    "plt.ylabel('True Positive Rate')\n",
    "plt.title('ROC-кривая')\n",
    "plt.show() \n",
    "auc_roc = roc_auc_score(target_valid, probabilities_one_val)\n",
    "print(auc_roc)"
   ]
  },
  {
   "cell_type": "markdown",
   "metadata": {},
   "source": [
    "Визуализация метрики AUC ROC для модели случайного леса, обученной на downsampled выборке"
   ]
  },
  {
   "cell_type": "code",
   "execution_count": 30,
   "metadata": {},
   "outputs": [
    {
     "data": {
      "image/png": "[encoded data removed]",
      "text/plain": [
       "<Figure size 432x288 with 1 Axes>"
      ]
     },
     "metadata": {
      "needs_background": "light"
     },
     "output_type": "display_data"
    },
    {
     "name": "stdout",
     "output_type": "stream",
     "text": [
      "0.8676511946394072\n"
     ]
    }
   ],
   "source": [
    "probabilities_val = r_forest_mod_best_DW.predict_proba(features_valid)\n",
    "probabilities_one_val = probabilities_val[:, 1]\n",
    "fpr, tpr, thresholds = roc_curve(target_valid, probabilities_one_val)\n",
    "plt.figure()\n",
    "plt.plot(fpr, tpr)\n",
    "plt.xlim([0.0, 1.0])\n",
    "plt.ylim([0.0, 1.0])\n",
    "plt.xlabel('False Positive Rate')\n",
    "plt.ylabel('True Positive Rate')\n",
    "plt.title('ROC-кривая')\n",
    "plt.show() \n",
    "auc_roc = roc_auc_score(target_valid, probabilities_one_val)\n",
    "print(auc_roc)"
   ]
  },
  {
   "cell_type": "markdown",
   "metadata": {},
   "source": [
    "### Вывод"
   ]
  },
  {
   "cell_type": "markdown",
   "metadata": {},
   "source": [
    "Лучшего результата удалось достичь, обучив модель случайного леса на выборке с применением downsampling."
   ]
  },
  {
   "cell_type": "markdown",
   "metadata": {},
   "source": [
    "## Тестирование модели"
   ]
  },
  {
   "cell_type": "markdown",
   "metadata": {},
   "source": [
    "### Модель случайного леса, downsampling"
   ]
  },
  {
   "cell_type": "code",
   "execution_count": 49,
   "metadata": {},
   "outputs": [
    {
     "name": "stdout",
     "output_type": "stream",
     "text": [
      "accuracy: 0.8335\n",
      "F1: 0.637488106565176\n"
     ]
    }
   ],
   "source": [
    "preds_r_forest_DW = r_forest_mod_best_DW.predict(features_test)\n",
    "print(\"accuracy:\", accuracy_score(target_test, preds))\n",
    "print(\"F1:\", f1_score(preds_r_forest_DW, target_test))"
   ]
  },
  {
   "cell_type": "code",
   "execution_count": 50,
   "metadata": {},
   "outputs": [
    {
     "name": "stdout",
     "output_type": "stream",
     "text": [
      "Площадь ROC-кривой: 0.4250940669324147\n"
     ]
    }
   ],
   "source": [
    "probabilities = r_forest_mod_best_DW.predict_proba(features)\n",
    "probabilities_one = probabilities[:, 1]\n",
    "print('Площадь ROC-кривой:', roc_auc_score(target, probabilities_one))"
   ]
  },
  {
   "cell_type": "markdown",
   "metadata": {},
   "source": [
    "### Модель случайного леса, upsampling"
   ]
  },
  {
   "cell_type": "code",
   "execution_count": 51,
   "metadata": {},
   "outputs": [
    {
     "name": "stdout",
     "output_type": "stream",
     "text": [
      "accuracy: 0.8335\n",
      "F1: 0.6312292358803987\n"
     ]
    }
   ],
   "source": [
    "preds_r_forest_UP = r_forest_mod_best_UP.predict(features_test)\n",
    "print(\"accuracy:\", accuracy_score(target_test, preds))\n",
    "print(\"F1:\", f1_score(preds_r_forest_UP, target_test))"
   ]
  },
  {
   "cell_type": "code",
   "execution_count": 52,
   "metadata": {},
   "outputs": [
    {
     "name": "stdout",
     "output_type": "stream",
     "text": [
      "Площадь ROC-кривой: 0.5708229538049414\n"
     ]
    }
   ],
   "source": [
    "probabilities = r_forest_mod_best_UP.predict_proba(features)\n",
    "probabilities_one = probabilities[:, 1]\n",
    "print('Площадь ROC-кривой:', roc_auc_score(target, probabilities_one))"
   ]
  },
  {
   "cell_type": "markdown",
   "metadata": {},
   "source": [
    "### DummyClassifier"
   ]
  },
  {
   "cell_type": "code",
   "execution_count": 63,
   "metadata": {},
   "outputs": [
    {
     "name": "stdout",
     "output_type": "stream",
     "text": [
      "Dummy f1 with always predict 1: 0.35526315789473684\n"
     ]
    }
   ],
   "source": [
    "dummy_cl = DummyClassifier(strategy='constant', constant=1, random_state=12345)\n",
    "dummy_cl.fit(features_train, target_train)\n",
    "pred = dummy_cl.predict(features_test)\n",
    "f1 = f1_score(pred, target_test)\n",
    "print('Dummy f1 with always predict 1:', f1)"
   ]
  },
  {
   "cell_type": "code",
   "execution_count": 62,
   "metadata": {},
   "outputs": [
    {
     "name": "stdout",
     "output_type": "stream",
     "text": [
      "recall: 0.6597222222222222\n"
     ]
    }
   ],
   "source": [
    "recall = recall_score(target_test, preds_r_forest_UP)\n",
    "print('recall:', recall)"
   ]
  },
  {
   "cell_type": "code",
   "execution_count": 65,
   "metadata": {},
   "outputs": [
    {
     "name": "stdout",
     "output_type": "stream",
     "text": [
      "prec: 0.6050955414012739\n"
     ]
    }
   ],
   "source": [
    "prec = precision_score(target_test, preds_r_forest_UP)\n",
    "print('prec:', prec)"
   ]
  },
  {
   "cell_type": "markdown",
   "metadata": {},
   "source": [
    "Метрика f1 модели случайного леса, обученной на downsampling выборке, значительно выше f1 константной модели.\n",
    "Обученная модель верно детектирует 66% клиентов на отток.\n",
    "Предсказывая уход клиента, обученная модель угадывает в 60.5% случаев."
   ]
  },
  {
   "cell_type": "markdown",
   "metadata": {},
   "source": [
    "### Вывод"
   ]
  },
  {
   "cell_type": "markdown",
   "metadata": {},
   "source": [
    "Метрика f1 модели случайного леса, обученной на исходной выборке составляет 55.91%;\n",
    "на выборке с upsampling-ом положительного класса - 60.83%;\n",
    "на выборке с downsampling-ом отрицательного класса - 62.58%.\n",
    "Тестирование моделей показало, что downsampling обучающей выборки позволяет добиться наибольшей точности модели."
   ]
  },
  {
   "cell_type": "markdown",
   "metadata": {},
   "source": [
    "## Чек-лист готовности проекта"
   ]
  },
  {
   "cell_type": "markdown",
   "metadata": {},
   "source": [
    "Поставьте 'x' в выполненных пунктах. Далее нажмите Shift+Enter."
   ]
  },
  {
   "cell_type": "markdown",
   "metadata": {},
   "source": [
    "- [x]  Jupyter Notebook открыт\n",
    "- [x]  Весь код выполняется без ошибок\n",
    "- [x]  Ячейки с кодом расположены в порядке исполнения\n",
    "- [x]  Выполнен шаг 1: данные подготовлены\n",
    "- [x]  Выполнен шаг 2: задача исследована\n",
    "    - [x]  Исследован баланс классов\n",
    "    - [x]  Изучены модели без учёта дисбаланса\n",
    "    - [x]  Написаны выводы по результатам исследования\n",
    "- [x]  Выполнен шаг 3: учтён дисбаланс\n",
    "    - [x]  Применено несколько способов борьбы с дисбалансом\n",
    "    - [x]  Написаны выводы по результатам исследования\n",
    "- [x]  Выполнен шаг 4: проведено тестирование\n",
    "- [x]  Удалось достичь *F1*-меры не менее 0.59\n",
    "- [x]  Исследована метрика *AUC-ROC*"
   ]
  },
  {
   "cell_type": "code",
   "execution_count": null,
   "metadata": {},
   "outputs": [],
   "source": []
  }
 ],
 "metadata": {
  "ExecuteTimeLog": [
   {
    "duration": 1197,
    "start_time": "2023-06-20T07:59:56.850Z"
   },
   {
    "duration": 173,
    "start_time": "2023-06-20T07:59:58.993Z"
   },
   {
    "duration": 43,
    "start_time": "2023-06-20T08:51:39.262Z"
   },
   {
    "duration": 214,
    "start_time": "2023-06-20T08:51:39.940Z"
   },
   {
    "duration": 125,
    "start_time": "2023-06-20T08:51:40.832Z"
   },
   {
    "duration": 1240,
    "start_time": "2023-06-20T09:04:30.139Z"
   },
   {
    "duration": 44,
    "start_time": "2023-06-20T09:04:31.381Z"
   },
   {
    "duration": 116,
    "start_time": "2023-06-20T09:04:31.427Z"
   },
   {
    "duration": 3,
    "start_time": "2023-06-20T09:05:29.316Z"
   },
   {
    "duration": 39,
    "start_time": "2023-06-20T09:05:30.202Z"
   },
   {
    "duration": 17,
    "start_time": "2023-06-20T09:05:30.406Z"
   },
   {
    "duration": 15,
    "start_time": "2023-06-20T09:05:52.110Z"
   },
   {
    "duration": 26,
    "start_time": "2023-06-20T09:06:32.955Z"
   },
   {
    "duration": 10,
    "start_time": "2023-06-20T09:06:41.048Z"
   },
   {
    "duration": 10,
    "start_time": "2023-06-20T09:06:53.676Z"
   },
   {
    "duration": 4,
    "start_time": "2023-06-20T09:07:37.103Z"
   },
   {
    "duration": 7,
    "start_time": "2023-06-20T09:07:45.803Z"
   },
   {
    "duration": 42,
    "start_time": "2023-06-20T09:07:50.145Z"
   },
   {
    "duration": 8,
    "start_time": "2023-06-20T09:07:51.126Z"
   },
   {
    "duration": 16,
    "start_time": "2023-06-20T09:07:51.290Z"
   },
   {
    "duration": 3,
    "start_time": "2023-06-20T09:08:21.656Z"
   },
   {
    "duration": 46,
    "start_time": "2023-06-20T09:08:22.147Z"
   },
   {
    "duration": 7,
    "start_time": "2023-06-20T09:08:22.323Z"
   },
   {
    "duration": 3,
    "start_time": "2023-06-20T09:08:22.499Z"
   },
   {
    "duration": 7,
    "start_time": "2023-06-20T09:08:22.676Z"
   },
   {
    "duration": 44,
    "start_time": "2023-06-20T09:08:22.848Z"
   },
   {
    "duration": 7,
    "start_time": "2023-06-20T09:08:23.074Z"
   },
   {
    "duration": 16,
    "start_time": "2023-06-20T09:08:23.324Z"
   },
   {
    "duration": 17,
    "start_time": "2023-06-20T09:08:55.301Z"
   },
   {
    "duration": 3,
    "start_time": "2023-06-20T09:10:17.280Z"
   },
   {
    "duration": 41,
    "start_time": "2023-06-20T09:10:17.796Z"
   },
   {
    "duration": 8,
    "start_time": "2023-06-20T09:10:18.080Z"
   },
   {
    "duration": 4,
    "start_time": "2023-06-20T09:10:18.295Z"
   },
   {
    "duration": 8,
    "start_time": "2023-06-20T09:10:18.487Z"
   },
   {
    "duration": 40,
    "start_time": "2023-06-20T09:10:18.932Z"
   },
   {
    "duration": 7,
    "start_time": "2023-06-20T09:10:19.292Z"
   },
   {
    "duration": 19,
    "start_time": "2023-06-20T09:10:19.811Z"
   },
   {
    "duration": 4,
    "start_time": "2023-06-20T09:10:42.828Z"
   },
   {
    "duration": 10,
    "start_time": "2023-06-20T09:30:40.276Z"
   },
   {
    "duration": 3,
    "start_time": "2023-06-20T09:31:01.966Z"
   },
   {
    "duration": 1497,
    "start_time": "2023-06-20T09:31:22.888Z"
   },
   {
    "duration": 1509,
    "start_time": "2023-06-20T09:31:42.819Z"
   },
   {
    "duration": 1541,
    "start_time": "2023-06-20T09:31:49.848Z"
   },
   {
    "duration": 1155,
    "start_time": "2023-06-20T09:32:06.849Z"
   },
   {
    "duration": 43,
    "start_time": "2023-06-20T09:32:08.005Z"
   },
   {
    "duration": 12,
    "start_time": "2023-06-20T09:32:08.049Z"
   },
   {
    "duration": 4,
    "start_time": "2023-06-20T09:32:08.063Z"
   },
   {
    "duration": 8,
    "start_time": "2023-06-20T09:32:08.068Z"
   },
   {
    "duration": 38,
    "start_time": "2023-06-20T09:32:08.078Z"
   },
   {
    "duration": 7,
    "start_time": "2023-06-20T09:32:08.200Z"
   },
   {
    "duration": 15,
    "start_time": "2023-06-20T09:32:08.742Z"
   },
   {
    "duration": 3,
    "start_time": "2023-06-20T09:32:08.967Z"
   },
   {
    "duration": 1493,
    "start_time": "2023-06-20T09:32:09.454Z"
   },
   {
    "duration": 5,
    "start_time": "2023-06-20T09:46:17.916Z"
   },
   {
    "duration": 1168,
    "start_time": "2023-06-20T09:46:32.191Z"
   },
   {
    "duration": 40,
    "start_time": "2023-06-20T09:46:33.361Z"
   },
   {
    "duration": 15,
    "start_time": "2023-06-20T09:46:33.403Z"
   },
   {
    "duration": 15,
    "start_time": "2023-06-20T09:46:36.298Z"
   },
   {
    "duration": 5,
    "start_time": "2023-06-20T09:47:19.691Z"
   },
   {
    "duration": 5,
    "start_time": "2023-06-20T09:47:19.890Z"
   },
   {
    "duration": 38,
    "start_time": "2023-06-20T09:47:21.601Z"
   },
   {
    "duration": 8,
    "start_time": "2023-06-20T09:47:22.761Z"
   },
   {
    "duration": 15,
    "start_time": "2023-06-20T09:47:23.413Z"
   },
   {
    "duration": 3,
    "start_time": "2023-06-20T09:47:24.929Z"
   },
   {
    "duration": 1561,
    "start_time": "2023-06-20T09:47:25.145Z"
   },
   {
    "duration": 100,
    "start_time": "2023-06-20T10:01:24.721Z"
   },
   {
    "duration": 1327,
    "start_time": "2023-06-20T10:01:45.787Z"
   },
   {
    "duration": 16,
    "start_time": "2023-06-20T10:01:59.620Z"
   },
   {
    "duration": 6,
    "start_time": "2023-06-20T10:02:16.240Z"
   },
   {
    "duration": 3,
    "start_time": "2023-06-20T10:04:01.130Z"
   },
   {
    "duration": 1655,
    "start_time": "2023-06-20T10:04:01.318Z"
   },
   {
    "duration": 12,
    "start_time": "2023-06-20T10:12:34.998Z"
   },
   {
    "duration": 4,
    "start_time": "2023-06-20T10:12:54.988Z"
   },
   {
    "duration": 13,
    "start_time": "2023-06-20T10:13:00.008Z"
   },
   {
    "duration": 26,
    "start_time": "2023-06-20T10:13:55.555Z"
   },
   {
    "duration": 5,
    "start_time": "2023-06-20T10:16:02.890Z"
   },
   {
    "duration": 31,
    "start_time": "2023-06-20T10:16:06.655Z"
   },
   {
    "duration": 46899,
    "start_time": "2023-06-20T10:17:09.498Z"
   },
   {
    "duration": 3,
    "start_time": "2023-06-20T10:17:56.399Z"
   },
   {
    "duration": 54760,
    "start_time": "2023-06-20T10:26:47.520Z"
   },
   {
    "duration": 1408,
    "start_time": "2023-06-20T10:27:47.195Z"
   },
   {
    "duration": 46,
    "start_time": "2023-06-20T10:27:48.606Z"
   },
   {
    "duration": 15,
    "start_time": "2023-06-20T10:27:48.654Z"
   },
   {
    "duration": 28,
    "start_time": "2023-06-20T10:27:48.671Z"
   },
   {
    "duration": 13,
    "start_time": "2023-06-20T10:27:48.701Z"
   },
   {
    "duration": 41,
    "start_time": "2023-06-20T10:27:48.798Z"
   },
   {
    "duration": 10,
    "start_time": "2023-06-20T10:27:49.031Z"
   },
   {
    "duration": 18,
    "start_time": "2023-06-20T10:27:49.309Z"
   },
   {
    "duration": 3,
    "start_time": "2023-06-20T10:27:49.597Z"
   },
   {
    "duration": 1944,
    "start_time": "2023-06-20T10:27:49.852Z"
   },
   {
    "duration": 12,
    "start_time": "2023-06-20T10:28:01.706Z"
   },
   {
    "duration": 54653,
    "start_time": "2023-06-20T10:28:58.335Z"
   },
   {
    "duration": 3,
    "start_time": "2023-06-20T10:35:41.351Z"
   },
   {
    "duration": 1239,
    "start_time": "2023-06-20T10:50:26.281Z"
   },
   {
    "duration": 46,
    "start_time": "2023-06-20T10:50:27.522Z"
   },
   {
    "duration": 18,
    "start_time": "2023-06-20T10:50:27.573Z"
   },
   {
    "duration": 6,
    "start_time": "2023-06-20T10:50:27.593Z"
   },
   {
    "duration": 6,
    "start_time": "2023-06-20T10:50:27.815Z"
   },
   {
    "duration": 48,
    "start_time": "2023-06-20T10:50:28.054Z"
   },
   {
    "duration": 15,
    "start_time": "2023-06-20T10:50:28.263Z"
   },
   {
    "duration": 19,
    "start_time": "2023-06-20T10:50:28.502Z"
   },
   {
    "duration": 11,
    "start_time": "2023-06-20T10:50:29.186Z"
   },
   {
    "duration": 48253,
    "start_time": "2023-06-20T10:50:29.855Z"
   },
   {
    "duration": 113,
    "start_time": "2023-06-20T10:51:18.110Z"
   },
   {
    "duration": 0,
    "start_time": "2023-06-20T10:51:18.224Z"
   },
   {
    "duration": 1333,
    "start_time": "2023-06-20T11:07:03.997Z"
   },
   {
    "duration": 52,
    "start_time": "2023-06-20T11:07:05.332Z"
   },
   {
    "duration": 14,
    "start_time": "2023-06-20T11:07:05.386Z"
   },
   {
    "duration": 16,
    "start_time": "2023-06-20T11:07:05.403Z"
   },
   {
    "duration": 24,
    "start_time": "2023-06-20T11:07:05.421Z"
   },
   {
    "duration": 42,
    "start_time": "2023-06-20T11:07:05.660Z"
   },
   {
    "duration": 7,
    "start_time": "2023-06-20T11:07:05.993Z"
   },
   {
    "duration": 16,
    "start_time": "2023-06-20T11:07:06.341Z"
   },
   {
    "duration": 9,
    "start_time": "2023-06-20T11:07:07.445Z"
   },
   {
    "duration": 45508,
    "start_time": "2023-06-20T11:07:09.121Z"
   },
   {
    "duration": 1153,
    "start_time": "2023-06-20T11:18:31.394Z"
   },
   {
    "duration": 58,
    "start_time": "2023-06-20T11:18:32.549Z"
   },
   {
    "duration": 13,
    "start_time": "2023-06-20T11:18:32.609Z"
   },
   {
    "duration": 12,
    "start_time": "2023-06-20T11:18:32.707Z"
   },
   {
    "duration": 5,
    "start_time": "2023-06-20T11:18:33.237Z"
   },
   {
    "duration": 5,
    "start_time": "2023-06-20T11:18:33.519Z"
   },
   {
    "duration": 34,
    "start_time": "2023-06-20T11:18:33.794Z"
   },
   {
    "duration": 10,
    "start_time": "2023-06-20T11:18:34.099Z"
   },
   {
    "duration": 18,
    "start_time": "2023-06-20T11:18:34.396Z"
   },
   {
    "duration": 9,
    "start_time": "2023-06-20T11:18:35.253Z"
   },
   {
    "duration": 45192,
    "start_time": "2023-06-20T11:18:36.209Z"
   },
   {
    "duration": 298821,
    "start_time": "2023-06-20T11:19:21.403Z"
   },
   {
    "duration": 119,
    "start_time": "2023-06-20T11:24:20.226Z"
   },
   {
    "duration": 4,
    "start_time": "2023-06-20T11:25:55.855Z"
   },
   {
    "duration": 421228,
    "start_time": "2023-06-20T11:32:58.375Z"
   },
   {
    "duration": 13,
    "start_time": "2023-06-20T11:40:27.967Z"
   },
   {
    "duration": 2,
    "start_time": "2023-06-20T11:42:23.914Z"
   },
   {
    "duration": 97,
    "start_time": "2023-06-20T11:44:10.434Z"
   },
   {
    "duration": 5,
    "start_time": "2023-06-20T11:44:29.527Z"
   },
   {
    "duration": 17,
    "start_time": "2023-06-20T11:45:06.431Z"
   },
   {
    "duration": 4,
    "start_time": "2023-06-20T11:45:42.824Z"
   },
   {
    "duration": 16,
    "start_time": "2023-06-20T11:45:43.833Z"
   },
   {
    "duration": 6,
    "start_time": "2023-06-20T11:46:15.416Z"
   },
   {
    "duration": 4,
    "start_time": "2023-06-20T11:46:20.556Z"
   },
   {
    "duration": 12,
    "start_time": "2023-06-20T11:46:21.320Z"
   },
   {
    "duration": 310476,
    "start_time": "2023-06-20T11:47:12.207Z"
   },
   {
    "duration": 401860,
    "start_time": "2023-06-20T12:04:19.126Z"
   },
   {
    "duration": 6,
    "start_time": "2023-06-20T12:12:12.702Z"
   },
   {
    "duration": 10,
    "start_time": "2023-06-20T12:12:13.403Z"
   },
   {
    "duration": 11,
    "start_time": "2023-06-20T12:12:20.980Z"
   },
   {
    "duration": 11,
    "start_time": "2023-06-20T12:12:28.814Z"
   },
   {
    "duration": 209997,
    "start_time": "2023-06-20T12:12:31.593Z"
   },
   {
    "duration": 49,
    "start_time": "2023-06-20T12:17:27.951Z"
   },
   {
    "duration": 45,
    "start_time": "2023-06-20T12:17:43.707Z"
   },
   {
    "duration": 4,
    "start_time": "2023-06-20T12:18:14.686Z"
   },
   {
    "duration": 45,
    "start_time": "2023-06-20T12:18:23.316Z"
   },
   {
    "duration": 516,
    "start_time": "2023-06-20T12:18:39.307Z"
   },
   {
    "duration": 330,
    "start_time": "2023-06-20T12:18:45.744Z"
   },
   {
    "duration": 153,
    "start_time": "2023-06-20T12:18:55.748Z"
   },
   {
    "duration": 136,
    "start_time": "2023-06-20T12:19:09.490Z"
   },
   {
    "duration": 12,
    "start_time": "2023-06-20T12:23:04.959Z"
   },
   {
    "duration": 1573,
    "start_time": "2023-06-20T12:27:12.651Z"
   },
   {
    "duration": 52,
    "start_time": "2023-06-20T12:27:14.226Z"
   },
   {
    "duration": 18,
    "start_time": "2023-06-20T12:27:14.280Z"
   },
   {
    "duration": 13,
    "start_time": "2023-06-20T12:27:15.269Z"
   },
   {
    "duration": 4,
    "start_time": "2023-06-20T12:27:16.024Z"
   },
   {
    "duration": 7,
    "start_time": "2023-06-20T12:27:16.404Z"
   },
   {
    "duration": 49,
    "start_time": "2023-06-20T12:27:16.743Z"
   },
   {
    "duration": 12,
    "start_time": "2023-06-20T12:27:17.100Z"
   },
   {
    "duration": 15,
    "start_time": "2023-06-20T12:27:17.414Z"
   },
   {
    "duration": 9,
    "start_time": "2023-06-20T12:27:18.521Z"
   },
   {
    "duration": 37742,
    "start_time": "2023-06-20T12:27:22.622Z"
   },
   {
    "duration": 259671,
    "start_time": "2023-06-20T12:28:00.366Z"
   },
   {
    "duration": 398341,
    "start_time": "2023-06-20T12:32:20.040Z"
   },
   {
    "duration": 9,
    "start_time": "2023-06-20T12:38:58.387Z"
   },
   {
    "duration": 22,
    "start_time": "2023-06-20T12:38:58.470Z"
   },
   {
    "duration": 348309,
    "start_time": "2023-06-20T12:38:58.494Z"
   },
   {
    "duration": 5,
    "start_time": "2023-06-20T12:44:46.805Z"
   },
   {
    "duration": 18,
    "start_time": "2023-06-20T12:44:46.812Z"
   },
   {
    "duration": 178162,
    "start_time": "2023-06-20T12:47:44.620Z"
   },
   {
    "duration": 175,
    "start_time": "2023-06-20T12:50:42.785Z"
   },
   {
    "duration": 142,
    "start_time": "2023-06-20T12:50:42.962Z"
   },
   {
    "duration": 67,
    "start_time": "2023-06-20T12:50:43.121Z"
   },
   {
    "duration": 33,
    "start_time": "2023-06-20T12:50:43.190Z"
   },
   {
    "duration": 126,
    "start_time": "2023-06-20T12:50:43.227Z"
   },
   {
    "duration": 0,
    "start_time": "2023-06-20T12:50:43.354Z"
   },
   {
    "duration": 5,
    "start_time": "2023-06-21T05:48:08.493Z"
   },
   {
    "duration": 6,
    "start_time": "2023-06-21T05:48:28.259Z"
   },
   {
    "duration": 19,
    "start_time": "2023-06-21T05:55:20.812Z"
   },
   {
    "duration": 16,
    "start_time": "2023-06-21T05:55:30.473Z"
   },
   {
    "duration": 16,
    "start_time": "2023-06-21T05:55:32.788Z"
   },
   {
    "duration": 7,
    "start_time": "2023-06-21T05:55:37.992Z"
   },
   {
    "duration": 13,
    "start_time": "2023-06-21T05:57:57.694Z"
   },
   {
    "duration": 14,
    "start_time": "2023-06-21T05:58:03.265Z"
   },
   {
    "duration": 14,
    "start_time": "2023-06-21T05:58:04.756Z"
   },
   {
    "duration": 6,
    "start_time": "2023-06-21T05:58:06.095Z"
   },
   {
    "duration": 1445,
    "start_time": "2023-06-21T05:58:34.074Z"
   },
   {
    "duration": 43,
    "start_time": "2023-06-21T05:58:35.521Z"
   },
   {
    "duration": 15,
    "start_time": "2023-06-21T05:58:35.566Z"
   },
   {
    "duration": 9,
    "start_time": "2023-06-21T05:58:35.605Z"
   },
   {
    "duration": 4,
    "start_time": "2023-06-21T05:58:36.050Z"
   },
   {
    "duration": 6,
    "start_time": "2023-06-21T05:58:36.253Z"
   },
   {
    "duration": 38,
    "start_time": "2023-06-21T05:58:36.463Z"
   },
   {
    "duration": 12,
    "start_time": "2023-06-21T05:58:36.661Z"
   },
   {
    "duration": 15,
    "start_time": "2023-06-21T05:58:36.885Z"
   },
   {
    "duration": 9,
    "start_time": "2023-06-21T05:58:37.528Z"
   },
   {
    "duration": 34014,
    "start_time": "2023-06-21T05:58:38.208Z"
   },
   {
    "duration": 248452,
    "start_time": "2023-06-21T05:59:12.224Z"
   },
   {
    "duration": 21797,
    "start_time": "2023-06-21T06:03:20.678Z"
   },
   {
    "duration": 10,
    "start_time": "2023-06-21T06:03:42.478Z"
   },
   {
    "duration": 140,
    "start_time": "2023-06-21T06:03:42.568Z"
   },
   {
    "duration": 0,
    "start_time": "2023-06-21T06:03:42.710Z"
   },
   {
    "duration": 0,
    "start_time": "2023-06-21T06:03:42.712Z"
   },
   {
    "duration": 0,
    "start_time": "2023-06-21T06:03:42.713Z"
   },
   {
    "duration": 0,
    "start_time": "2023-06-21T06:03:42.715Z"
   },
   {
    "duration": 0,
    "start_time": "2023-06-21T06:03:42.716Z"
   },
   {
    "duration": 0,
    "start_time": "2023-06-21T06:03:42.717Z"
   },
   {
    "duration": 0,
    "start_time": "2023-06-21T06:03:42.719Z"
   },
   {
    "duration": 0,
    "start_time": "2023-06-21T06:03:42.720Z"
   },
   {
    "duration": 0,
    "start_time": "2023-06-21T06:03:42.721Z"
   },
   {
    "duration": 59,
    "start_time": "2023-06-21T06:46:36.544Z"
   },
   {
    "duration": 1568,
    "start_time": "2023-06-21T06:46:52.558Z"
   },
   {
    "duration": 57,
    "start_time": "2023-06-21T06:46:54.128Z"
   },
   {
    "duration": 21,
    "start_time": "2023-06-21T06:46:54.190Z"
   },
   {
    "duration": 6,
    "start_time": "2023-06-21T06:46:54.222Z"
   },
   {
    "duration": 9,
    "start_time": "2023-06-21T06:46:57.201Z"
   },
   {
    "duration": 4,
    "start_time": "2023-06-21T06:46:58.903Z"
   },
   {
    "duration": 5,
    "start_time": "2023-06-21T06:46:59.758Z"
   },
   {
    "duration": 24,
    "start_time": "2023-06-21T06:47:00.003Z"
   },
   {
    "duration": 13,
    "start_time": "2023-06-21T06:47:02.424Z"
   },
   {
    "duration": 153,
    "start_time": "2023-06-21T06:47:02.767Z"
   },
   {
    "duration": 13,
    "start_time": "2023-06-21T06:47:27.205Z"
   },
   {
    "duration": 19,
    "start_time": "2023-06-21T06:47:36.545Z"
   },
   {
    "duration": 8,
    "start_time": "2023-06-21T06:47:38.601Z"
   },
   {
    "duration": 23945,
    "start_time": "2023-06-21T06:47:39.111Z"
   },
   {
    "duration": 220365,
    "start_time": "2023-06-21T06:48:03.058Z"
   },
   {
    "duration": 58078,
    "start_time": "2023-06-21T06:51:43.424Z"
   },
   {
    "duration": 17,
    "start_time": "2023-06-21T06:52:41.568Z"
   },
   {
    "duration": 98,
    "start_time": "2023-06-21T06:52:41.587Z"
   },
   {
    "duration": 284024,
    "start_time": "2023-06-21T06:52:41.688Z"
   },
   {
    "duration": 7,
    "start_time": "2023-06-21T06:57:25.714Z"
   },
   {
    "duration": 57,
    "start_time": "2023-06-21T06:57:25.723Z"
   },
   {
    "duration": 158858,
    "start_time": "2023-06-21T06:57:25.783Z"
   },
   {
    "duration": 213,
    "start_time": "2023-06-21T07:00:04.644Z"
   },
   {
    "duration": 23,
    "start_time": "2023-06-21T07:00:04.860Z"
   },
   {
    "duration": 0,
    "start_time": "2023-06-21T07:00:04.893Z"
   },
   {
    "duration": 0,
    "start_time": "2023-06-21T07:00:04.894Z"
   },
   {
    "duration": 0,
    "start_time": "2023-06-21T07:00:04.896Z"
   },
   {
    "duration": 167,
    "start_time": "2023-06-21T07:00:36.941Z"
   },
   {
    "duration": 35,
    "start_time": "2023-06-21T07:00:41.248Z"
   },
   {
    "duration": 35,
    "start_time": "2023-06-21T07:00:42.455Z"
   },
   {
    "duration": 7,
    "start_time": "2023-06-21T07:00:45.604Z"
   },
   {
    "duration": 31,
    "start_time": "2023-06-21T07:02:45.012Z"
   },
   {
    "duration": 2,
    "start_time": "2023-06-21T07:04:46.643Z"
   },
   {
    "duration": 5,
    "start_time": "2023-06-21T07:06:34.209Z"
   },
   {
    "duration": 5,
    "start_time": "2023-06-21T07:06:44.696Z"
   },
   {
    "duration": 6217,
    "start_time": "2023-06-21T07:21:36.542Z"
   },
   {
    "duration": 398,
    "start_time": "2023-06-21T07:21:42.815Z"
   },
   {
    "duration": 105,
    "start_time": "2023-06-21T07:21:43.216Z"
   },
   {
    "duration": 9,
    "start_time": "2023-06-21T07:21:43.322Z"
   },
   {
    "duration": 100,
    "start_time": "2023-06-21T07:21:43.336Z"
   },
   {
    "duration": 75,
    "start_time": "2023-06-21T07:21:43.447Z"
   },
   {
    "duration": 21,
    "start_time": "2023-06-21T07:21:43.529Z"
   },
   {
    "duration": 168,
    "start_time": "2023-06-21T07:21:43.552Z"
   },
   {
    "duration": 88,
    "start_time": "2023-06-21T07:21:43.731Z"
   },
   {
    "duration": 110,
    "start_time": "2023-06-21T07:21:43.831Z"
   },
   {
    "duration": 88,
    "start_time": "2023-06-21T07:21:43.949Z"
   },
   {
    "duration": 101097,
    "start_time": "2023-06-21T07:21:44.039Z"
   },
   {
    "duration": 964976,
    "start_time": "2023-06-21T07:23:25.143Z"
   },
   {
    "duration": 112921,
    "start_time": "2023-06-21T07:39:30.123Z"
   },
   {
    "duration": 20,
    "start_time": "2023-06-21T07:41:23.113Z"
   },
   {
    "duration": 26,
    "start_time": "2023-06-21T07:41:23.147Z"
   },
   {
    "duration": 1269057,
    "start_time": "2023-06-21T07:41:23.181Z"
   },
   {
    "duration": 14,
    "start_time": "2023-06-21T08:02:32.249Z"
   },
   {
    "duration": 218,
    "start_time": "2023-06-21T08:02:32.316Z"
   },
   {
    "duration": 2068,
    "start_time": "2023-06-21T09:46:57.209Z"
   },
   {
    "duration": 163,
    "start_time": "2023-06-21T09:46:59.280Z"
   },
   {
    "duration": 31,
    "start_time": "2023-06-21T09:46:59.445Z"
   },
   {
    "duration": 56,
    "start_time": "2023-06-21T09:46:59.481Z"
   },
   {
    "duration": 13,
    "start_time": "2023-06-21T09:47:02.465Z"
   },
   {
    "duration": 6,
    "start_time": "2023-06-21T09:47:40.123Z"
   },
   {
    "duration": 6,
    "start_time": "2023-06-21T09:47:44.809Z"
   },
   {
    "duration": 13,
    "start_time": "2023-06-21T09:48:18.601Z"
   },
   {
    "duration": 12518,
    "start_time": "2023-06-21T09:49:28.470Z"
   },
   {
    "duration": 784,
    "start_time": "2023-06-21T09:51:13.901Z"
   },
   {
    "duration": 212,
    "start_time": "2023-06-21T09:52:41.345Z"
   },
   {
    "duration": 2122,
    "start_time": "2023-06-21T09:52:56.609Z"
   },
   {
    "duration": 59,
    "start_time": "2023-06-21T09:53:00.025Z"
   },
   {
    "duration": 17,
    "start_time": "2023-06-21T09:53:00.309Z"
   },
   {
    "duration": 8,
    "start_time": "2023-06-21T09:53:00.769Z"
   },
   {
    "duration": 9,
    "start_time": "2023-06-21T09:53:01.428Z"
   },
   {
    "duration": 13,
    "start_time": "2023-06-21T09:53:01.905Z"
   },
   {
    "duration": 6,
    "start_time": "2023-06-21T09:53:02.532Z"
   },
   {
    "duration": 16,
    "start_time": "2023-06-21T09:53:02.777Z"
   },
   {
    "duration": 219,
    "start_time": "2023-06-21T09:53:04.506Z"
   },
   {
    "duration": 12,
    "start_time": "2023-06-21T09:53:30.922Z"
   },
   {
    "duration": 35,
    "start_time": "2023-06-21T09:53:32.834Z"
   },
   {
    "duration": 8,
    "start_time": "2023-06-21T09:53:35.915Z"
   },
   {
    "duration": 97,
    "start_time": "2023-06-21T09:54:50.240Z"
   },
   {
    "duration": 11095,
    "start_time": "2023-06-21T09:54:57.838Z"
   },
   {
    "duration": 89,
    "start_time": "2023-06-21T09:55:08.936Z"
   },
   {
    "duration": 205,
    "start_time": "2023-06-21T09:55:09.028Z"
   },
   {
    "duration": 287,
    "start_time": "2023-06-21T09:55:09.237Z"
   },
   {
    "duration": 297,
    "start_time": "2023-06-21T09:55:09.526Z"
   },
   {
    "duration": 312,
    "start_time": "2023-06-21T09:55:09.825Z"
   },
   {
    "duration": 218,
    "start_time": "2023-06-21T09:55:10.139Z"
   },
   {
    "duration": 186,
    "start_time": "2023-06-21T09:55:10.359Z"
   },
   {
    "duration": 171,
    "start_time": "2023-06-21T09:55:10.548Z"
   },
   {
    "duration": 200,
    "start_time": "2023-06-21T09:55:10.724Z"
   },
   {
    "duration": 110,
    "start_time": "2023-06-21T09:55:10.927Z"
   },
   {
    "duration": 33307,
    "start_time": "2023-06-21T09:55:11.039Z"
   },
   {
    "duration": 30849,
    "start_time": "2023-06-21T09:56:15.820Z"
   },
   {
    "duration": 258381,
    "start_time": "2023-06-21T09:57:07.221Z"
   },
   {
    "duration": 46161,
    "start_time": "2023-06-21T10:04:45.298Z"
   },
   {
    "duration": 8,
    "start_time": "2023-06-21T10:06:03.724Z"
   },
   {
    "duration": 9898,
    "start_time": "2023-06-21T10:06:25.780Z"
   },
   {
    "duration": 65,
    "start_time": "2023-06-21T10:09:35.180Z"
   },
   {
    "duration": 61,
    "start_time": "2023-06-21T10:09:56.936Z"
   },
   {
    "duration": 387610,
    "start_time": "2023-06-21T10:11:12.714Z"
   },
   {
    "duration": 10,
    "start_time": "2023-06-21T10:17:40.326Z"
   },
   {
    "duration": 54,
    "start_time": "2023-06-21T10:21:22.837Z"
   },
   {
    "duration": 402514,
    "start_time": "2023-06-21T10:21:29.629Z"
   },
   {
    "duration": 2,
    "start_time": "2023-06-21T10:28:12.148Z"
   },
   {
    "duration": 54905,
    "start_time": "2023-06-21T10:28:12.162Z"
   },
   {
    "duration": 44627,
    "start_time": "2023-06-21T10:29:07.070Z"
   },
   {
    "duration": 2021,
    "start_time": "2023-06-21T10:32:00.378Z"
   },
   {
    "duration": 85,
    "start_time": "2023-06-21T10:32:02.401Z"
   },
   {
    "duration": 96,
    "start_time": "2023-06-21T10:32:02.489Z"
   },
   {
    "duration": 133,
    "start_time": "2023-06-21T10:32:02.591Z"
   },
   {
    "duration": 14,
    "start_time": "2023-06-21T10:32:02.936Z"
   },
   {
    "duration": 7,
    "start_time": "2023-06-21T10:32:03.343Z"
   },
   {
    "duration": 17,
    "start_time": "2023-06-21T10:32:04.323Z"
   },
   {
    "duration": 19,
    "start_time": "2023-06-21T10:32:04.696Z"
   },
   {
    "duration": 21,
    "start_time": "2023-06-21T10:32:06.459Z"
   },
   {
    "duration": 41,
    "start_time": "2023-06-21T10:32:07.295Z"
   },
   {
    "duration": 27,
    "start_time": "2023-06-21T10:32:08.802Z"
   },
   {
    "duration": 34550,
    "start_time": "2023-06-21T10:32:10.279Z"
   },
   {
    "duration": 129572,
    "start_time": "2023-06-21T10:32:44.831Z"
   },
   {
    "duration": 0,
    "start_time": "2023-06-21T10:34:55.200Z"
   },
   {
    "duration": 0,
    "start_time": "2023-06-21T10:34:55.206Z"
   },
   {
    "duration": 0,
    "start_time": "2023-06-21T10:34:55.210Z"
   },
   {
    "duration": 0,
    "start_time": "2023-06-21T10:34:55.218Z"
   },
   {
    "duration": 0,
    "start_time": "2023-06-21T10:34:55.219Z"
   },
   {
    "duration": 0,
    "start_time": "2023-06-21T10:34:55.225Z"
   },
   {
    "duration": 0,
    "start_time": "2023-06-21T10:34:55.226Z"
   },
   {
    "duration": 0,
    "start_time": "2023-06-21T10:34:55.227Z"
   },
   {
    "duration": 0,
    "start_time": "2023-06-21T10:34:55.230Z"
   },
   {
    "duration": 246,
    "start_time": "2023-06-21T10:35:26.220Z"
   },
   {
    "duration": 308,
    "start_time": "2023-06-21T10:35:47.602Z"
   },
   {
    "duration": 70,
    "start_time": "2023-06-21T10:35:54.806Z"
   },
   {
    "duration": 180145,
    "start_time": "2023-06-21T10:35:55.998Z"
   },
   {
    "duration": 50441,
    "start_time": "2023-06-21T10:38:56.145Z"
   },
   {
    "duration": 461,
    "start_time": "2023-06-21T10:39:46.996Z"
   },
   {
    "duration": 47,
    "start_time": "2023-06-21T10:39:47.468Z"
   },
   {
    "duration": 56,
    "start_time": "2023-06-21T10:39:47.517Z"
   },
   {
    "duration": 10,
    "start_time": "2023-06-21T10:40:06.251Z"
   },
   {
    "duration": 5,
    "start_time": "2023-06-21T10:40:28.030Z"
   },
   {
    "duration": 69441,
    "start_time": "2023-06-21T10:40:44.503Z"
   },
   {
    "duration": 52492,
    "start_time": "2023-06-21T10:41:53.947Z"
   },
   {
    "duration": 365,
    "start_time": "2023-06-21T10:42:46.441Z"
   },
   {
    "duration": 220,
    "start_time": "2023-06-21T10:43:13.143Z"
   },
   {
    "duration": 202,
    "start_time": "2023-06-21T10:43:14.615Z"
   },
   {
    "duration": 115,
    "start_time": "2023-06-21T10:44:23.220Z"
   },
   {
    "duration": 15197,
    "start_time": "2023-06-21T10:48:04.191Z"
   },
   {
    "duration": 69,
    "start_time": "2023-06-21T10:48:20.100Z"
   },
   {
    "duration": 492,
    "start_time": "2023-06-21T10:49:21.613Z"
   },
   {
    "duration": 42,
    "start_time": "2023-06-21T10:51:29.297Z"
   },
   {
    "duration": 11,
    "start_time": "2023-06-21T10:51:52.929Z"
   },
   {
    "duration": 88,
    "start_time": "2023-06-21T10:52:00.199Z"
   },
   {
    "duration": 55,
    "start_time": "2023-06-21T10:53:16.518Z"
   },
   {
    "duration": 95,
    "start_time": "2023-06-21T10:53:30.846Z"
   },
   {
    "duration": 6,
    "start_time": "2023-06-21T10:55:08.116Z"
   },
   {
    "duration": 17,
    "start_time": "2023-06-21T11:03:26.698Z"
   },
   {
    "duration": 13,
    "start_time": "2023-06-21T11:03:35.016Z"
   },
   {
    "duration": 27,
    "start_time": "2023-06-21T11:03:39.839Z"
   },
   {
    "duration": 21,
    "start_time": "2023-06-21T11:03:44.485Z"
   },
   {
    "duration": 5,
    "start_time": "2023-06-21T11:04:41.521Z"
   },
   {
    "duration": 41,
    "start_time": "2023-06-21T11:06:36.494Z"
   },
   {
    "duration": 90,
    "start_time": "2023-06-21T11:06:52.409Z"
   },
   {
    "duration": 41,
    "start_time": "2023-06-21T11:06:55.802Z"
   },
   {
    "duration": 45,
    "start_time": "2023-06-21T11:07:08.174Z"
   },
   {
    "duration": 90,
    "start_time": "2023-06-21T11:07:21.925Z"
   },
   {
    "duration": 73,
    "start_time": "2023-06-21T11:07:29.746Z"
   },
   {
    "duration": 80,
    "start_time": "2023-06-21T11:07:30.113Z"
   },
   {
    "duration": 6,
    "start_time": "2023-06-21T11:07:52.602Z"
   },
   {
    "duration": 7,
    "start_time": "2023-06-21T11:08:41.221Z"
   },
   {
    "duration": 6,
    "start_time": "2023-06-21T11:08:52.715Z"
   },
   {
    "duration": 7,
    "start_time": "2023-06-21T11:09:34.624Z"
   },
   {
    "duration": 6,
    "start_time": "2023-06-21T11:11:33.621Z"
   },
   {
    "duration": 5,
    "start_time": "2023-06-21T11:12:13.003Z"
   },
   {
    "duration": 89,
    "start_time": "2023-06-21T11:25:10.704Z"
   },
   {
    "duration": 10,
    "start_time": "2023-06-21T11:26:08.322Z"
   },
   {
    "duration": 14,
    "start_time": "2023-06-21T11:26:46.486Z"
   },
   {
    "duration": 7,
    "start_time": "2023-06-21T11:27:15.922Z"
   },
   {
    "duration": 7,
    "start_time": "2023-06-21T11:33:21.728Z"
   },
   {
    "duration": 5,
    "start_time": "2023-06-21T11:37:56.123Z"
   },
   {
    "duration": 13,
    "start_time": "2023-06-21T11:38:01.884Z"
   }
  ],
  "kernelspec": {
   "display_name": "Python 3 (ipykernel)",
   "language": "python",
   "name": "python3"
  },
  "language_info": {
   "codemirror_mode": {
    "name": "ipython",
    "version": 3
   },
   "file_extension": ".py",
   "mimetype": "text/x-python",
   "name": "python",
   "nbconvert_exporter": "python",
   "pygments_lexer": "ipython3",
   "version": "3.9.15"
  },
  "toc": {
   "base_numbering": 1,
   "nav_menu": {},
   "number_sections": true,
   "sideBar": true,
   "skip_h1_title": true,
   "title_cell": "Содержание",
   "title_sidebar": "Contents",
   "toc_cell": true,
   "toc_position": {},
   "toc_section_display": true,
   "toc_window_display": false
  }
 },
 "nbformat": 4,
 "nbformat_minor": 4
}
